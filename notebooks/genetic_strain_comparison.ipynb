{
 "cells": [
  {
   "cell_type": "markdown",
   "metadata": {},
   "source": [
    "## Genetic comparison between the dominant strain and vaccine strain and reprocubily selected strains"
   ]
  },
  {
   "cell_type": "markdown",
   "metadata": {},
   "source": [
    "## 0. General"
   ]
  },
  {
   "cell_type": "markdown",
   "metadata": {},
   "source": [
    "### 0.1. Load libraries"
   ]
  },
  {
   "cell_type": "code",
   "execution_count": 1,
   "metadata": {},
   "outputs": [],
   "source": [
    "import os, dendropy, math, sys\n",
    "import pandas as pd, numpy as np\n",
    "from Bio import SeqIO\n",
    "import calendar\n",
    "\n",
    "from datetime import date, timedelta\n",
    "from dateutil.relativedelta import relativedelta\n",
    "\n"
   ]
  },
  {
   "cell_type": "markdown",
   "metadata": {},
   "source": [
    "### 0.2. General variables"
   ]
  },
  {
   "cell_type": "code",
   "execution_count": 6,
   "metadata": {},
   "outputs": [],
   "source": [
    "start_mature_protein = 17\n",
    "HA1_length_AA = 329 #in mature protein \n",
    "protein_length = 567\n",
    "sequence_length = 1701"
   ]
  },
  {
   "cell_type": "code",
   "execution_count": 2,
   "metadata": {},
   "outputs": [],
   "source": [
    "region_hemispheres = {\"us\":\"nh\", \"europe\":\"nh\", \"aunz\":\"sh\"}\n",
    "hemispheres = [\"nh\", \"sh\"]"
   ]
  },
  {
   "cell_type": "code",
   "execution_count": 3,
   "metadata": {},
   "outputs": [],
   "source": [
    "pp = 24 #preceding period in months\n",
    "pdur = 16 #period duration\n",
    "flu_seasons = {h:{} for h in hemispheres}\n",
    "vaccine_selection = {h:{} for h in hemispheres}\n",
    "for y in range(2002, 2024):\n",
    "    #northern hemisphere flu season\n",
    "    season = f\"{y}-{y+1}\"\n",
    "    if y != 2023:\n",
    "        flu_seasons[\"nh\"][season] = (date(y, 10, 1), date(y+1, 4, 30))\n",
    "        #northern hemisphere vaccine strain selection moment\n",
    "        vaccine_selection[\"nh\"][season] = date(y,2,1)  \n",
    "    \n",
    "    if y==2002:\n",
    "        continue\n",
    "    #southern hemisphere flu season\n",
    "    flu_seasons[\"sh\"][str(y)] = (date(y, 3, 1), date(y, 9, 30))\n",
    "    #southern hemisphere vaccine strain selection moment\n",
    "    vaccine_selection[\"sh\"][str(y)] = date(y-1,9,1)\n",
    "\n",
    "season_periods = {h:{} for h in hemispheres}\n",
    "period_dates = {}\n",
    "for h, sd in flu_seasons.items():\n",
    "    for season, (fss, fse) in sd.items():\n",
    "        vsd = vaccine_selection[h][season]\n",
    "        #something with periods in treason doesn't seem to be correct but don't wanna waste time on that for now\n",
    "        if h == \"nh\":\n",
    "            ps, pe  = vsd + relativedelta(months=-pp), vsd + relativedelta(months=+pdur-1)\n",
    "        else:\n",
    "            ps, pe  = vsd + relativedelta(months=-pp), vsd + relativedelta(months=+pdur-1)\n",
    "\n",
    "        \n",
    "        period = f\"{str(ps.year)[2:]}{'0'+str(ps.month) if len(str(ps.month))==1 else str(ps.month)}-{str(pe.year)[2:]}{'0'+str(pe.month) if len(str(pe.month))==1 else str(pe.month)}\"\n",
    "        season_periods[h][season] = period\n",
    "        period_dates[period] = (ps, pe)\n",
    "\n",
    "#cut off for HA1 \n",
    "early_season_cutoff = {'nh':'2011-2012', 'sh':'2011'}\n",
    "early_season_cutoff_dates = {h:flu_seasons[h][season][-1] for h, season in early_season_cutoff.items()}\n",
    "early_seasons = [] #get list\n",
    "for h, cutoff in early_season_cutoff.items():\n",
    "    csons = list(flu_seasons[h].keys())\n",
    "    for i, season in enumerate(csons):\n",
    "        if i <= csons.index(cutoff):\n",
    "            early_seasons.append(season)"
   ]
  },
  {
   "cell_type": "code",
   "execution_count": 4,
   "metadata": {},
   "outputs": [],
   "source": [
    "epitope_sites= {\"A\":[122,124,126,130,131,132,133,135,137,138,140,142,143,144,145,146,150,152,168], \n",
    "                \"B\":[128,129,155,156,157,158,159,163,165,186,187,188,189,190,192,193,194,196,197,198], \n",
    "                \"C\":[44,45,46,47,48,50,51,53,54,273,275,276,278,279,280,294,297,299,300,304,305,307,308,309,310,311,312], \n",
    "                \"D\":[96,102,103,117,121,167,170,171,172,173,174,175,176,177,179,182,201,203,207,208,209,212,213,214,215,216,217,218,219,226,227,228,229,230,238,240,242,244,246,247,248,], \n",
    "                \"E\":[57,59,62,63,67,75,78,80,81,82,83,86,87,88,91,92,94,109,260,261,262,265]}\n",
    "epitope_positions = [s for sites in epitope_sites.values() for s in sites]\n",
    "\n",
    "#rbs\n",
    "rbs_positions = [98, 131, 132, 133, 134, 135, 136, 137, 138, 139, 140, 144, 145, 146, 153, 154, 155, 156, 157, 158, 159,\n",
    "                 183, 184, 185, 186, 187, 188, 189, 190, 190, 191, 192, 193, 194, 195, 196, 219, 220, 221, 222, 223, 224, \n",
    "                 225, 226, 227, 228,]\n",
    "#rbs_positions = [131, 132, 133, 134, 135, 136, 137, 138, 140, 183, 185, 186, 187, 188, 189, 190, 191, 192, 193, 194, 195, 196, 219, 220, 221, 222, 223, 224, 225, 226, 227, 228,]\n",
    "koel_sites = [145, 189, 193, 156, 159, 158, 155]\n",
    "\n",
    "#amino acid list for coding \n",
    "aa_list = [\"A\", \"R\", \"N\", \"D\", \"C\", \"Q\", \"E\", \"G\", \"H\", \"I\", \"L\", \"K\", \"M\", \"F\", \"P\", \"S\", \"T\", \"W\", \"Y\", \"V\"]"
   ]
  },
  {
   "cell_type": "markdown",
   "metadata": {},
   "source": [
    "### 0.3. functions"
   ]
  },
  {
   "cell_type": "code",
   "execution_count": 22,
   "metadata": {},
   "outputs": [],
   "source": [
    "def get_mutations(ref, seq, sl=\"complete\"):\n",
    "    muts = []\n",
    "    for i, b in enumerate(ref):\n",
    "        if seq[i] == \"X\" or b == \"X\":\n",
    "            continue \n",
    "        if seq[i] != b:\n",
    "            if sl == \"HA1\":\n",
    "                pos = start_mature_protein+i\n",
    "                mpos = i+1\n",
    "                protein = \"HA1\"\n",
    "            else: # if sl==\"complete\"\n",
    "                pos = i+1\n",
    "                mpos = pos-start_mature_protein+1\n",
    "                protein = \"signal protein\" if pos<start_mature_protein else \"HA1\" if pos<=HA1_length_AA else \"HA2\"\n",
    "            ep = True if mpos in epitope_positions else False\n",
    "            rbs = True if mpos in rbs_positions else False\n",
    "            if ep:\n",
    "                for s, pos_list in epitope_sites.items():\n",
    "                    if mpos in pos_list:\n",
    "                        site = s\n",
    "            else:\n",
    "                site = pd.NA\n",
    "            muts.append([b, seq[i], pos, mpos, protein, ep, site, rbs])\n",
    "    muts = pd.DataFrame.from_records(muts, columns=[\"dominant strain AA\", \"AA\", \"position\", \"mature position\", \"protein\", \"epitope\", \"epitope site\", \"RBS\"])\n",
    "    return muts"
   ]
  },
  {
   "cell_type": "markdown",
   "metadata": {},
   "source": [
    "## 1. Get data"
   ]
  },
  {
   "cell_type": "markdown",
   "metadata": {},
   "source": [
    "### 1.1. WHO vaccine strains"
   ]
  },
  {
   "cell_type": "code",
   "execution_count": 10,
   "metadata": {},
   "outputs": [],
   "source": [
    "#vaccine strains per hemisphere per season year\n",
    "#egg-based strain recommendation as listed on the WHO website\n",
    "vaccine_strain_names = {'nh': {'2024-2025':'A/Thailand/8/2022', '2023-2024':'A/Darwin/9/2021', '2022-2023':'A/Darwin/9/2021', '2021-2022':'A/Cambodia/e0826360/2020',\n",
    "                               '2020-2021':'A/Hong Kong/2671/2019', '2019-2020':'A/Kansas/14/2017', '2018-2019':'A/Singapore/INFIMH-16-0019/2016', '2017-2018':'A/Hong Kong/4801/2014',\n",
    "                               '2016-2017':'A/Hong Kong/4801/2014','2015-2016':'A/Switzerland/9715293/2013','2014-2015':'A/Texas/50/2012','2013-2014':'A/Texas/50/2012',\n",
    "                               '2012-2013':'A/Victoria/361/2011','2011-2012':'A/Perth/16/2009','2010-2011':'A/Perth/16/2009','2009-2010':'A/Brisbane/10/2007',\n",
    "                               '2008-2009':'A/Brisbane/10/2007','2007-2008':'A/Wisconsin/67/2005','2006-2007':'A/Wisconsin/67/2005','2005-2006':'A/California/7/2004',\n",
    "                               '2004-2005':'A/Fujian/411/2002','2003-2004':'A/Moscow/10/99','2002-2003':'A/Moscow/10/99','2001-2002':'A/Moscow/10/99','2000-2001':'A/Moscow/10/99'},\n",
    "                        'sh': {'2024':'A/Thailand/8/2022','2023':'A/Darwin/9/2021','2022':'A/Darwin/9/2021','2021':'A/Hong Kong/2671/2019','2020':'A/South Australia/34/2019',\n",
    "                               '2019':'A/Switzerland/8060/2017','2018':'A/Singapore/INFIMH-16-0019/2016','2017':'A/Hong Kong/4801/2014','2016':'A/Hong Kong/4801/2014',\n",
    "                               '2015':'A/Switzerland/9715293/2013','2014':'A/Texas/50/2012','2013':'A/Victoria/361/2011','2012':'A/Perth/16/2009','2011':'A/Perth/16/2009',\n",
    "                               '2010':'A/Perth/16/2009','2009':'A/Brisbane/10/2007','2008':'A/Brisbane/10/2007','2007':'A/Wisconsin/67/2005','2006':'A/California/7/2004',\n",
    "                               '2005':'A/Wellington/1/2004','2004':'A/Fujian/411/2002','2003':'A/Moscow/10/99','2002':'A/Moscow/10/99','2001':'A/Moscow/10/99',\n",
    "                               '2000':'A/Moscow/10/99'}\n",
    "                        }\n",
    "\n",
    "vaccine_strain_dir = \"../data/vaccine_strains/H3N2\"\n",
    "\n",
    "vaccine_strains = {}\n",
    "for f in os.listdir(vaccine_strain_dir):\n",
    "    strain = f.split(\".\")[0].split(\"_\")\n",
    "    strain[1] = strain[1].replace(\"-\", \" \")\n",
    "    strain = \"/\".join(strain)\n",
    "    \n",
    "    #get full cds and amino acid sequence \n",
    "    cds = [r for r in SeqIO.parse(os.path.join(vaccine_strain_dir, f), \"fasta\")][0].seq[:1701]\n",
    "    aa_seq = cds.translate()\n",
    "    aa_seq = aa_seq[:protein_length]\n",
    "\n",
    "    #get proteins - signal protein\n",
    "    signal_prot_nuc = cds[:(start_mature_protein*3)-1] \n",
    "    signal_prot_aa = aa_seq[:(start_mature_protein)-1]\n",
    "    #HA1 \n",
    "    HA1_nuc = cds[(start_mature_protein*3)-1:((start_mature_protein*3)+(HA1_length_AA*3))-1]\n",
    "    HA1_aa = aa_seq[start_mature_protein-1:+start_mature_protein+HA1_length_AA-1]\n",
    "    #HA2\n",
    "    HA2_nuc = cds[((start_mature_protein*3)-1+(HA1_length_AA*3)):]\n",
    "    HA2_aa = aa_seq[start_mature_protein-1+HA1_length_AA:]\n",
    "\n",
    "    vaccine_strains[strain] = {\"nuc\":{\"complete\":cds, \"signal protein\":signal_prot_nuc, \"HA1\":HA1_nuc, \"HA2\":HA2_nuc, \"mature protein\":HA1_nuc+HA2_nuc},\n",
    "                               \"aa\":{\"complete\":aa_seq, \"signal protein\":signal_prot_aa, \"HA1\":HA1_aa, \"HA2\":HA2_aa, \"mature protein\":HA1_aa+HA2_aa}}\n"
   ]
  },
  {
   "cell_type": "markdown",
   "metadata": {},
   "source": [
    "### 1.2. Dominant strain"
   ]
  },
  {
   "cell_type": "code",
   "execution_count": 17,
   "metadata": {},
   "outputs": [],
   "source": [
    "dominant_strain_file = '../data/dominant_strains.fasta'\n",
    "dominant_strains = []\n",
    "for r in SeqIO.parse(dominant_strain_file, \"fasta\"):\n",
    "    region, season = r.id.split(\"_\")[0], r.id.split(\"_\")[1]\n",
    "    dominant_strains.append([region, season, r.seq])\n",
    "\n",
    "dominant_strains = pd.DataFrame.from_records(dominant_strains, columns=[\"region\", \"season\", \"sequence\"]).set_index([\"region\", \"season\"]).sort_index()"
   ]
  },
  {
   "cell_type": "markdown",
   "metadata": {},
   "source": [
    "### 1.3. Reproducible selection strains"
   ]
  },
  {
   "cell_type": "code",
   "execution_count": 27,
   "metadata": {},
   "outputs": [],
   "source": [
    "reproducible_selection_strain_file = \"../data/reproducible_selection_strains.fasta\"\n",
    "reproducible_selection_strains = []\n",
    "for r in SeqIO.parse(reproducible_selection_strain_file, \"fasta\"):\n",
    "    region, season, months, timing = r.id.split(\"_\")\n",
    "    reproducible_selection_strains.append([region, season, months, timing, r.seq])\n",
    "\n",
    "reproducible_selection_strains = pd.DataFrame.from_records(reproducible_selection_strains, columns=[\"region\", \"season\", \"months\", \"timing\", \"sequence\"]).set_index([\"region\", \"season\", \"timing\"]).sort_index()"
   ]
  },
  {
   "cell_type": "markdown",
   "metadata": {},
   "source": [
    "## 2. Genetic comparison"
   ]
  },
  {
   "cell_type": "markdown",
   "metadata": {},
   "source": [
    "### 2.1. Dominant strain vs. vaccine strain\n"
   ]
  },
  {
   "cell_type": "code",
   "execution_count": 57,
   "metadata": {},
   "outputs": [],
   "source": [
    "#get vaccine strain mutations\n",
    "vaccine_mutations = []\n",
    "for region, h in region_hemispheres.items():\n",
    "    for season, (fss, fse) in flu_seasons[h].items():\n",
    "\n",
    "        #get vaccine strain\n",
    "        if season in early_seasons:\n",
    "            vs = vaccine_strains[vaccine_strain_names[h][season]]['aa']['HA1']\n",
    "        else:\n",
    "            vs = vaccine_strains[vaccine_strain_names[h][season]]['aa']['complete']\n",
    "\n",
    "        #get dominant strain\n",
    "        ds = dominant_strains.loc[(region, season), \"sequence\"]\n",
    "        #get mutations and make df\n",
    "        if season in early_seasons:\n",
    "            muts = get_mutations(ds, vs, \"HA1\")\n",
    "        else:\n",
    "            muts = get_mutations(ds, vs, \"complete\")\n",
    "\n",
    "        muts[[\"region\", \"season\"]] = region,season\n",
    "\n",
    "        try:\n",
    "            vaccine_mutations = pd.concat([vaccine_mutations, muts], ignore_index=True)\n",
    "        except:\n",
    "            vaccine_mutations = muts\n",
    "\n",
    "\n",
    "\n",
    "vaccine_mutations[\"mutation\"] = [f'{row[\"AA\"]}{row[\"position\"]}{row[\"dominant strain AA\"]}' for i, row in vaccine_mutations.iterrows()]\n",
    "vaccine_mutations[\"H3 mutation\"] = [f'{row[\"AA\"]}{row[\"mature position\"]}{row[\"dominant strain AA\"]}' if row[\"mature position\"]>0 else pd.NA for i, row in vaccine_mutations.iterrows() ]\n",
    "\n",
    "vaccine_mutations = vaccine_mutations.set_index([\"region\", \"season\"]).sort_index()"
   ]
  },
  {
   "cell_type": "markdown",
   "metadata": {},
   "source": [
    "### 2.2. Dominant strain vs. reproducible vaccine strain selection at WHO-timing"
   ]
  },
  {
   "cell_type": "code",
   "execution_count": 58,
   "metadata": {},
   "outputs": [],
   "source": [
    "rs_whotiming_mutations = []\n",
    "timing = \"WHO-timing\"\n",
    "\n",
    "for region, h in region_hemispheres.items():\n",
    "    for season, (fss, fse) in flu_seasons[h].items():\n",
    "\n",
    "        #get reproducible selection strain\n",
    "        rs = reproducible_selection_strains.loc[(region, season, timing), \"sequence\"]\n",
    "        #get dominant strain\n",
    "        ds = dominant_strains.loc[(region, season), \"sequence\"]\n",
    "\n",
    "        if season in early_seasons:\n",
    "            muts = get_mutations(ds, rs, \"HA1\")\n",
    "        else:\n",
    "            muts = get_mutations(ds, rs, \"complete\")\n",
    "\n",
    "\n",
    "        muts[[\"region\", \"season\"]] = region,season\n",
    "        try:\n",
    "            rs_whotiming_mutations = pd.concat([rs_whotiming_mutations, muts], ignore_index=True)\n",
    "        except:\n",
    "            rs_whotiming_mutations = muts\n",
    "        \n",
    "\n",
    "rs_whotiming_mutations [\"mutation\"] = [f'{row[\"AA\"]}{row[\"position\"]}{row[\"dominant strain AA\"]}' for i, row in rs_whotiming_mutations.iterrows()]\n",
    "rs_whotiming_mutations[\"H3 mutation\"] = [f'{row[\"AA\"]}{row[\"mature position\"]}{row[\"dominant strain AA\"]}' if row[\"mature position\"]>0 else pd.NA for i, row in rs_whotiming_mutations.iterrows() ]\n",
    "\n",
    "rs_whotiming_mutations = rs_whotiming_mutations.set_index([\"region\", \"season\"]).sort_index()\n"
   ]
  },
  {
   "cell_type": "markdown",
   "metadata": {},
   "source": [
    "### 2.3. Dominant strain vs. reproducible vaccine strain selection at later timing"
   ]
  },
  {
   "cell_type": "code",
   "execution_count": 59,
   "metadata": {},
   "outputs": [],
   "source": [
    "rs_later_mutations = []\n",
    "timing = \"delayed-timing\"\n",
    "\n",
    "for region, h in region_hemispheres.items():\n",
    "    for season, (fss, fse) in flu_seasons[h].items():\n",
    "\n",
    "        #get reproducible selection strain\n",
    "        rs = reproducible_selection_strains.loc[(region, season, timing), \"sequence\"]\n",
    "        #get dominant strain\n",
    "        ds = dominant_strains.loc[(region, season), \"sequence\"]\n",
    "\n",
    "        if season in early_seasons:\n",
    "            muts = get_mutations(ds, rs, \"HA1\")\n",
    "        else:\n",
    "            muts = get_mutations(ds, rs, \"complete\")\n",
    "\n",
    "\n",
    "        muts[[\"region\", \"season\"]] = region,season\n",
    "        try:\n",
    "            rs_later_mutations = pd.concat([rs_later_mutations, muts], ignore_index=True)\n",
    "        except:\n",
    "            rs_later_mutations = muts\n",
    "        \n",
    "\n",
    "rs_later_mutations [\"mutation\"] = [f'{row[\"AA\"]}{row[\"position\"]}{row[\"dominant strain AA\"]}' for i, row in rs_later_mutations .iterrows()]\n",
    "rs_later_mutations [\"H3 mutation\"] = [f'{row[\"AA\"]}{row[\"mature position\"]}{row[\"dominant strain AA\"]}' if row[\"mature position\"]>0 else pd.NA for i, row in rs_later_mutations.iterrows() ]\n",
    "\n",
    "rs_later_mutations = rs_later_mutations.set_index([\"region\", \"season\"]).sort_index()\n"
   ]
  },
  {
   "cell_type": "markdown",
   "metadata": {},
   "source": [
    "## 3. Summaries results"
   ]
  },
  {
   "cell_type": "code",
   "execution_count": 60,
   "metadata": {},
   "outputs": [],
   "source": [
    "summary_dir = \"../analysis/genetic_comparison_results\""
   ]
  },
  {
   "cell_type": "markdown",
   "metadata": {},
   "source": [
    "### 3.1. Number of mutations \n",
    "- number of total mutations\n",
    "- number of mutations in classically define epitope sites\n",
    "- number of mutations in koel sites\n"
   ]
  },
  {
   "cell_type": "code",
   "execution_count": 61,
   "metadata": {},
   "outputs": [],
   "source": [
    "genetic_comparison_summary = []\n",
    "for region, h in region_hemispheres.items():\n",
    "    for season, (fss, fse) in flu_seasons[h].items():\n",
    "\n",
    "        for comparison, df in {\"vaccine strain\":vaccine_mutations, \n",
    "                               \"reproducible selection at WHO-timing\":rs_whotiming_mutations,\n",
    "                               \"reproducible selection at delayed timing\":rs_later_mutations}.items():\n",
    "            try:\n",
    "                sdf  = df.loc[(region, season)]\n",
    "                n_mutations = len(sdf)\n",
    "                n_epitope_mutations = len(sdf[sdf[\"epitope\"]==True])\n",
    "                n_koel_sites = len(sdf[sdf[\"mature position\"].isin(koel_sites)])\n",
    "                genetic_comparison_summary.append([region, season, comparison, n_mutations, n_epitope_mutations, n_koel_sites])\n",
    "            except:\n",
    "                genetic_comparison_summary.append([region, season, comparison, 0, 0, 0])\n",
    "                \n",
    "\n",
    "genetic_comparison_summary = pd.DataFrame.from_records(genetic_comparison_summary, columns=[\"region\", \"season\",\"comparison\", \"n mutations\", \"n epitope mutations\", \"n mutations in koel sites\"])"
   ]
  },
  {
   "cell_type": "code",
   "execution_count": 62,
   "metadata": {},
   "outputs": [],
   "source": [
    "genetic_comparison_summary.to_csv(os.path.join(summary_dir, \"genetic_comparison_summary.csv\"), index=False)"
   ]
  },
  {
   "cell_type": "markdown",
   "metadata": {},
   "source": [
    "### 3.2. individual mutations"
   ]
  },
  {
   "cell_type": "code",
   "execution_count": 63,
   "metadata": {},
   "outputs": [],
   "source": [
    "for comparison, df in {\"vaccine strain\":vaccine_mutations, \"reproducible selection at WHO-timing\":rs_whotiming_mutations,\n",
    "                       \"reproducible selection at delayed timing\":rs_later_mutations}.items():\n",
    "    \n",
    "    fn = f\"mutations_dominant_strain_vs_{comparison.replace(' ', '_')}.csv\"\n",
    "    df.reset_index().to_csv(os.path.join(summary_dir,fn ), index=False)"
   ]
  }
 ],
 "metadata": {
  "kernelspec": {
   "display_name": "flu",
   "language": "python",
   "name": "python3"
  },
  "language_info": {
   "codemirror_mode": {
    "name": "ipython",
    "version": 3
   },
   "file_extension": ".py",
   "mimetype": "text/x-python",
   "name": "python",
   "nbconvert_exporter": "python",
   "pygments_lexer": "ipython3",
   "version": "3.10.6"
  }
 },
 "nbformat": 4,
 "nbformat_minor": 2
}
